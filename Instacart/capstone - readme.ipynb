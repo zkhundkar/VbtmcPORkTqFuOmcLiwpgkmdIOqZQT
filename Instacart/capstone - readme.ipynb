{
 "cells": [
  {
   "cell_type": "markdown",
   "metadata": {},
   "source": [
    "The project is based on a dataset that is publicly available by courtesy of Instacart. It was also used for a Kaggle competition.\n",
    "\n",
    "Dataset\n",
    "    Available from this url: https://www.instacart.com/datasets/grocery-shopping-2017\n",
    "    It comes in a number of csv files. The project is set up to be n the same directory as the data\n",
    "\n",
    "Libraries\n",
    "    The project uses \n",
    "    - pandas\n",
    "    - numpy\n",
    "    - sklearn\n",
    "    - matplotlib\n",
    "    - seaborn\n",
    "    - lightgbm (available from PYPI or this github repo)\n",
    "    - pytables (or tables) - for creating pandas native files from dataframes\n",
    "    \n",
    "iPython files\n",
    "    There are four notebooks for the work done in this project\n",
    "    1. Instacart - Exploration\n",
    "    2. Instacart - Preprocessing\n",
    "    3. Instacart - Analysis\n",
    "    4. capstone-utilities - this is just a notebook for documenting all the functions I created for preprocessing\n",
    "        and generating benchmarks. The runnable logic is in the cap-utils.py file\n",
    "\n",
    "Python module\n",
    "    caputils-py - see note above\n",
    "\n",
    "\n",
    "Hardware:\n",
    "    I worked on this project on a AMD Phenom II quad processor (ca 2012 so not too recent) with 24GB ram and a ssd drive attahed to  SATA III (6GB) controller. The ssd probably saved me several days worth of read-write time (I exaggerate).\n",
    "    \n",
    "Dev environment\n",
    "    Anaconda 2, 64-bit Python v2.7.12"
   ]
  }
 ],
 "metadata": {
  "kernelspec": {
   "display_name": "Python 2",
   "language": "python",
   "name": "python2"
  },
  "language_info": {
   "codemirror_mode": {
    "name": "ipython",
    "version": 2
   },
   "file_extension": ".py",
   "mimetype": "text/x-python",
   "name": "python",
   "nbconvert_exporter": "python",
   "pygments_lexer": "ipython2",
   "version": "2.7.9"
  }
 },
 "nbformat": 4,
 "nbformat_minor": 0
}
