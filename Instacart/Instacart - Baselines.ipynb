{
 "cells": [
  {
   "cell_type": "markdown",
   "metadata": {},
   "source": [
    "# Machine Learning Engineer Nanodegree\n",
    "## Capstone Project - InstaCart Market Basket Analysis\n",
    "\n",
    "### Baseline Benchmarks\n",
    "\n",
    "This notebook includes code and results for the three baseline models we propose to use as benchmarks:\n",
    "- Each test order is filled with the most popular products limited to average basket size.\n",
    "- Each test order duplicates the user's prior order.\n",
    "- Each test order includes top M products from the users prior orders, where M is the average number of products purchased by the user."
   ]
  },
  {
   "cell_type": "code",
   "execution_count": 2,
   "metadata": {
    "collapsed": false
   },
   "outputs": [
    {
     "name": "stdout",
     "output_type": "stream",
     "text": [
      "Loaded libraries\n",
      "Wall time: 18.5 s\n"
     ]
    }
   ],
   "source": [
    "%%time\n",
    "# Import libraries necessary for this project\n",
    "import numpy as np\n",
    "import pandas as pd\n",
    "import os\n",
    "\n",
    "print \"Loaded libraries\"\n",
    "\n",
    "_datapath = './'\n",
    "os.chdir(_datapath)\n",
    "\n",
    "RAW_STORE = 'instacart_raw.hdf5'\n",
    "HDF_STORE = 'instacart.hdf5'\n",
    "FVARS_STORE = 'features.hdf5'\n",
    "STATS_STORE = 'stats.hdf5'"
   ]
  },
  {
   "cell_type": "code",
   "execution_count": 5,
   "metadata": {
    "collapsed": false
   },
   "outputs": [
    {
     "name": "stdout",
     "output_type": "stream",
     "text": [
      "Loading datasets ...\n",
      "Wall time: 1.81 s\n"
     ]
    }
   ],
   "source": [
    "%%time\n",
    "\n",
    "try:\n",
    "    print \"Loading datasets ...\"\n",
    "    priors = pd.read_hdf(HDF_STORE, \"priors\")\n",
    "    #departments = pd.read_hdf(HDF_STORE, \"departments\")\n",
    "    #products = pd.read_hdf(HDF_STORE, \"products\")\n",
    "    orders = pd.read_hdf(HDF_STORE, \"orders\")\n",
    "except Exception as  e:\n",
    "    print e\n",
    "    print \"Dataset could not be loaded. Is the hdf store missing?\""
   ]
  },
  {
   "cell_type": "code",
   "execution_count": 2,
   "metadata": {
    "collapsed": false
   },
   "outputs": [
    {
     "name": "stdout",
     "output_type": "stream",
     "text": [
      "Number of unique users in test (75000L,)\n",
      "Number of unique orders =131209 and users =131209 in train\n",
      "0\n",
      "Wall time: 281 ms\n"
     ]
    }
   ],
   "source": [
    "%%time\n",
    "#Summarize\n",
    "#orders = orders[:300000]\n",
    "#print \"Summary of aisles {}\".format(orders.groupby(by='order_id').reset_index().describe())\n",
    "print \"Number of unique users in test\",test_orders.user_id.unique().shape\n",
    "ttrain = orders[orders.eval_set == 1]\n",
    "print \"Number of unique orders ={} and users ={} in train\".format(ttrain.order_id.unique().shape[0], ttrain.user_id.unique().shape[0])\n",
    "#print \"Number of unique users in test\",orders[orders['eval_set']==2].user_id.unique().shape\n",
    "print test_orders[test_orders.user_id.isin(ttrain.user_id)].shape[0]"
   ]
  },
  {
   "cell_type": "markdown",
   "metadata": {},
   "source": [
    "### Benchmark 1\n",
    "#### Each test order is filled with the most popular products limited to average basket size\n",
    "\n",
    "This benchmark does not consider differences between users. We follow these steps:\n",
    "- Calculate the number of times each product has been ordered\n",
    "- Calculate average basket size\n",
    "- Sort the list of products in decreasing order of popularity, then truncate it to the average basket (order) size\n"
   ]
  },
  {
   "cell_type": "code",
   "execution_count": 6,
   "metadata": {
    "collapsed": true
   },
   "outputs": [],
   "source": [
    "priors = priors.sample(frac=0.05, random_state=46)"
   ]
  },
  {
   "cell_type": "code",
   "execution_count": 46,
   "metadata": {
    "collapsed": false
   },
   "outputs": [
    {
     "name": "stdout",
     "output_type": "stream",
     "text": [
      "   order_id products\n",
      "0        17    24852\n",
      "1        34    24852\n",
      "2       137    24852\n",
      "3       182    24852\n",
      "4       257    24852\n",
      "Wall time: 10.1 s\n"
     ]
    }
   ],
   "source": [
    "%%time\n",
    "\n",
    "bench = priors.merge(orders[['order_id', 'eval_set']], how='left', on='order_id')\n",
    "test = orders[orders.eval_set==2][['order_id', 'user_id', 'order_number']]\n",
    "\n",
    "# Find the history set -- prior and train\n",
    "bench1 = bench[bench.eval_set<2]\n",
    "# Calculate product popularity\n",
    "popular = bench1[bench1.reordered==1].groupby('product_id')['order_id'].count().reset_index()\\\n",
    "            .rename(columns={'order_id':'frequency'})\n",
    "popular.sort_values(by='frequency', ascending=False, inplace=True)\n",
    "\n",
    "#Calculate average basket size\n",
    "basket_size = bench1.groupby('order_id')['product_id'].count()\\\n",
    "    .reset_index().rename(columns={'product_id':'Average Size'})\n",
    "topN = int(round(np.float(basket_size[[1]].mean()[0]), 0))\n",
    "\n",
    "#Make a list of the truncated list of top-N most popular products\n",
    "topN_products = ' '.join([str(e) for e in list(popular.product_id[:topN].as_matrix())])\n",
    "\n",
    "# Create submission file\n",
    "bench1_submit = test.groupby('order_id')['user_id'].count()\\\n",
    "           .apply(lambda x: topN_products).reset_index()\\\n",
    "           .rename(columns={'user_id':'products'})\n",
    "#bench1_submit.to_csv('bench1_submission.csv', encoding='utf-8', index=False)\n",
    "\n",
    "print bench1_submit.head()\n",
    "# The score reported by Kaggle on submission  - 0.0638739 (scored on 30% of test set)"
   ]
  },
  {
   "cell_type": "markdown",
   "metadata": {},
   "source": [
    "### Benchmark 2 \n",
    "#### Each test order duplicates the user's prior order. \n",
    "We are guaranteed to have a prior order as the orders table includes at least 4 orders per user. "
   ]
  },
  {
   "cell_type": "code",
   "execution_count": 81,
   "metadata": {
    "collapsed": false
   },
   "outputs": [
    {
     "name": "stdout",
     "output_type": "stream",
     "text": [
      "   order_id products\n",
      "0        34    47792\n",
      "1       182    11198\n",
      "2       414    31215\n",
      "3       418     8382\n",
      "4       452    36606\n",
      "Wall time: 8.77 s\n"
     ]
    }
   ],
   "source": [
    "%%time\n",
    "last_order_id = orders[orders.eval_set<2]\n",
    "last_order_id.sort_values(by=['user_id','order_number'],ascending=[True, False], inplace=True)\n",
    "last_order_id = last_order_id.groupby(['user_id'])['order_id'].apply(lambda x: x.iloc[0])\\\n",
    "                    .reset_index().rename(columns={'order_id':'last_order_id'})\n",
    "bench2 = test.merge(last_order_id[['user_id', 'last_order_id']], how='left', on='user_id')\n",
    "bench2 = bench2.merge(priors[['order_id', 'product_id', 'reordered']], how='inner',\\\n",
    "                      left_on='last_order_id', right_on='order_id')\\\n",
    "            .rename(columns={'order_id_x':'order_id', 'order_id_y':'last_order'})\n",
    "\n",
    "# Create submission file\n",
    "bench2_submit=bench2.groupby('order_id')['product_id']\\\n",
    "                    .apply(lambda x: \" \".join([str(s) for s in list(x.as_matrix())]))\\\n",
    "                    .reset_index().rename(columns={'product_id':'products'})\n",
    "bench2_submit.sort_values(by='order_id', inplace=True)\n",
    "\n",
    "print bench2_submit.head()\n",
    "\n",
    "#bench2_submit.to_csv('bench2_submission.csv', encoding='utf-8', index=False)\n",
    "\n",
    "# The score reported by Kaggle on submission - 0.3118026 (on 30% of samples)"
   ]
  },
  {
   "cell_type": "code",
   "execution_count": 76,
   "metadata": {
    "collapsed": false
   },
   "outputs": [
    {
     "name": "stdout",
     "output_type": "stream",
     "text": [
      "    order_id  user_id  eval_set  order_number  order_dow  order_hour_of_day  \\\n",
      "50   2086598        6         0             1          5                 18   \n",
      "51    298250        6         0             2          4                 16   \n",
      "52    998866        6         0             3          2                 18   \n",
      "53   1528013        6         2             4          3                 16   \n",
      "\n",
      "    days_since_prior_order  \n",
      "50                     NaN  \n",
      "51                     6.0  \n",
      "52                    12.0  \n",
      "53                    22.0  \n",
      "         order_id  product_id  add_to_cart_order  reordered\n",
      "9462737    998866        8424                  3          0\n"
     ]
    }
   ],
   "source": [
    "print orders[orders.user_id==6]\n",
    "print priors[priors.order_id==998866]"
   ]
  },
  {
   "cell_type": "markdown",
   "metadata": {},
   "source": [
    "### Benchmark 3 \n",
    "#### Each test order includes top M products from the users prior orders\n",
    "This considers the user's average preferences (M is the average number of products purchased by the user).\n",
    "- compute the number of times a product has been purchased by this user\n",
    "- compute the average size of each user's orders\n",
    "- "
   ]
  },
  {
   "cell_type": "code",
   "execution_count": 86,
   "metadata": {
    "collapsed": false
   },
   "outputs": [
    {
     "data": {
      "text/html": [
       "<div>\n",
       "<table border=\"1\" class=\"dataframe\">\n",
       "  <thead>\n",
       "    <tr style=\"text-align: right;\">\n",
       "      <th></th>\n",
       "      <th>order_id</th>\n",
       "      <th>product_id</th>\n",
       "      <th>add_to_cart_order</th>\n",
       "      <th>reordered</th>\n",
       "      <th>eval_set</th>\n",
       "      <th>user_id</th>\n",
       "    </tr>\n",
       "  </thead>\n",
       "  <tbody>\n",
       "    <tr>\n",
       "      <th>0</th>\n",
       "      <td>1427675</td>\n",
       "      <td>26096</td>\n",
       "      <td>20</td>\n",
       "      <td>0</td>\n",
       "      <td>0</td>\n",
       "      <td>103035</td>\n",
       "    </tr>\n",
       "    <tr>\n",
       "      <th>1</th>\n",
       "      <td>42191</td>\n",
       "      <td>38273</td>\n",
       "      <td>10</td>\n",
       "      <td>0</td>\n",
       "      <td>0</td>\n",
       "      <td>121983</td>\n",
       "    </tr>\n",
       "    <tr>\n",
       "      <th>2</th>\n",
       "      <td>1266959</td>\n",
       "      <td>2067</td>\n",
       "      <td>3</td>\n",
       "      <td>1</td>\n",
       "      <td>0</td>\n",
       "      <td>188407</td>\n",
       "    </tr>\n",
       "    <tr>\n",
       "      <th>3</th>\n",
       "      <td>368331</td>\n",
       "      <td>15203</td>\n",
       "      <td>5</td>\n",
       "      <td>0</td>\n",
       "      <td>0</td>\n",
       "      <td>101224</td>\n",
       "    </tr>\n",
       "    <tr>\n",
       "      <th>4</th>\n",
       "      <td>503520</td>\n",
       "      <td>42443</td>\n",
       "      <td>1</td>\n",
       "      <td>1</td>\n",
       "      <td>0</td>\n",
       "      <td>77597</td>\n",
       "    </tr>\n",
       "  </tbody>\n",
       "</table>\n",
       "</div>"
      ],
      "text/plain": [
       "   order_id  product_id  add_to_cart_order  reordered  eval_set  user_id\n",
       "0   1427675       26096                 20          0         0   103035\n",
       "1     42191       38273                 10          0         0   121983\n",
       "2   1266959        2067                  3          1         0   188407\n",
       "3    368331       15203                  5          0         0   101224\n",
       "4    503520       42443                  1          1         0    77597"
      ]
     },
     "execution_count": 86,
     "metadata": {},
     "output_type": "execute_result"
    }
   ],
   "source": [
    "bench3.head()"
   ]
  },
  {
   "cell_type": "code",
   "execution_count": 94,
   "metadata": {
    "collapsed": false
   },
   "outputs": [
    {
     "name": "stdout",
     "output_type": "stream",
     "text": [
      "   user_id  product_id  frequency  basket_size\n",
      "0        1         196          1            1\n",
      "1        1       12427          1            1\n",
      "2        2       32792          2            1\n",
      "3        2        2002          1            1\n",
      "4        2        5907          1            1\n",
      "Wall time: 1.24 s\n"
     ]
    }
   ],
   "source": [
    "%%time\n",
    "# Find the history set -- prior and train\n",
    "bench3 = bench[bench.eval_set<2].merge(orders[['order_id', 'user_id']], how='left', on='order_id')\n",
    "# Calculate product popularity\n",
    "u_popular = bench3.groupby(['user_id','product_id'])['order_id'].count().reset_index()\\\n",
    "            .rename(columns={'order_id':'frequency'})\n",
    "u_popular.sort_values(by=['user_id', 'frequency'], ascending=[True, False], inplace=True)\n",
    "\n",
    "#Calculate average basket size\n",
    "u_baskets = bench3.groupby(['user_id', 'order_id'])['product_id'].count()\\\n",
    "    .reset_index().rename(columns={'product_id':'basket_size'})\n",
    "u_baskets = u_baskets.groupby('user_id')['basket_size'].mean().reset_index()\n",
    "u_baskets.basket_size = u_baskets.basket_size.astype('int16')                            \n",
    "u_extra = u_popular.merge(u_baskets, how='left', on='user_id')\n",
    "print u_extra.head()\n"
   ]
  },
  {
   "cell_type": "code",
   "execution_count": 63,
   "metadata": {
    "collapsed": false
   },
   "outputs": [
    {
     "name": "stdout",
     "output_type": "stream",
     "text": [
      "(1242497, 7) (11792498, 5)\n",
      "   user_id  avg_size\n",
      "0        3         7\n",
      "1        4         4\n",
      "2        6         5\n",
      "3       11        13\n",
      "4       12        15\n",
      "    user_id  product_id  order_freq\n",
      "23        3       39190          10\n",
      "30        3       47766           9\n",
      "15        3       21903           8\n",
      "5         3        9387           5\n",
      "11        3       17668           5\n",
      "   user_id  product_id  order_freq  avg_size\n",
      "0        3       39190          10         7\n",
      "1        3       47766           9         7\n",
      "2        3       21903           8         7\n",
      "3        3        9387           5         7\n",
      "4        3       17668           5         7\n",
      "   order_id  user_id  eval_set  order_number  order_dow  order_hour_of_day  \\\n",
      "0   2774568        3         2            13          5                 15   \n",
      "1    329954        4         2             6          3                 12   \n",
      "2   1528013        6         2             4          3                 16   \n",
      "3   1376945       11         2             8          6                 11   \n",
      "4   1356845       12         2             6          1                 20   \n",
      "\n",
      "   days_since_prior_order                                           products  \n",
      "0                    11.0           17668 39190 18599 9387 21903 47766 43961  \n",
      "1                    30.0                               1200 7160 2707 35469  \n",
      "2                    22.0                       8424 11068 10644 38293 21903  \n",
      "3                     8.0  34658 14947 33572 16869 35948 28465 10644 8309...  \n",
      "4                    30.0  11520 21616 10978 7076 11845 28134 7120 8239 1...  \n",
      "Wall time: 4min 38s\n"
     ]
    }
   ],
   "source": [
    "%%time\n",
    "# Benchmark 3  submission\n",
    "# Each test order includes top M products from the users prior orders. M is the average number of products for the user\n",
    "#del prev3_o\n",
    "#del prev3_p\n",
    "if True:\n",
    "    prev3_o = orders[orders.user_id.isin(test_orders.user_id)]\n",
    "\n",
    "#prev3_os = prev3_o[:50]\n",
    "    #prev3_op = op_prior[op_prior.order_id.isin(prev3_o.order_id)]\n",
    "    prev3_p = pd.merge(left=prev3_o[['order_id','user_id','order_number']],\n",
    "                       right=op_prior[['order_id','product_id','reordered']],\n",
    "                       on='order_id')\n",
    "    print prev3_o.shape, prev3_p.shape\n",
    "    prev3_os = prev3_p\n",
    "\n",
    "    user_order_size =  prev3_os.groupby(['user_id', 'order_id'])['product_id'].count().reset_index()\n",
    "    user_order_size = user_order_size.groupby('user_id')['product_id'].apply(lambda x: int(np.round(x.mean())))\\\n",
    "        .reset_index()\n",
    "    user_order_size.columns=['user_id', 'avg_size']\n",
    "\n",
    "#print prev3_os.head()\n",
    "    user_product_freq =  prev3_os.groupby(['user_id', 'product_id'])['order_id'].count().reset_index()\n",
    "    user_product_freq.columns = ['user_id', 'product_id', 'order_freq']\n",
    "    user_product_freq = user_product_freq.sort_values(by=['user_id','order_freq'],ascending=[1,0])\n",
    "    user_int = pd.merge(left=user_product_freq, right=user_order_size, on='user_id')\n",
    "    print user_order_size.head()\n",
    "    print user_product_freq.head()\n",
    "    print user_int.head()\n",
    "\n",
    "def agg(x):\n",
    "    #print \"Agg function has been called for {} with {}\".format(x[0], type(x[1]))\n",
    "    size = int(x[1].avg_size.mean())\n",
    "    t = x[1][:size]\n",
    "    \n",
    "    return [x[0],\" \".join([str(s) for s in set(t.product_id)])]\n",
    "\n",
    "groups = user_int.groupby('user_id')\n",
    "groups=pd.DataFrame([agg(x) for x in groups])\n",
    "groups.columns=['user_id','products']\n",
    "bench3 = pd.merge(left=test_orders,\n",
    "                 right=groups, on='user_id')\n",
    "print bench3.head()\n",
    "bench3=bench3[['order_id', 'products']]\n",
    "if False:\n",
    "    prev_order.order_number = prev_order.order_number-1\n",
    "    prev_order.columns = ['user_id','order_number', 'torder_id']\n",
    "    b2=pd.merge(left=prev_order, right=orders[['user_id', 'order_number','order_id', 'eval_set']], on=['user_id', 'order_number'])\n",
    "    #print test_orders.head()\n",
    "    print b2.head()\n",
    "    print set(b2.eval_set)\n",
    "    print \"orders:\", orders.shape\n",
    "    test_prior = op_prior[op_prior.order_id.isin(b2.order_id)]\n",
    "    print test_prior.head()\n",
    "\n",
    "##bench2=pd.merge(left=b2, right=op_prior[['order_id','product_id']], on='order_id')\n",
    "##print prev_order[prev_order['user_id']==3]\n",
    "##print test.columns\n",
    "#bg2 = test_prior.groupby('order_id')['product_id'].apply(lambda x: ' '.join([str(e) for e in set(x)])).reset_index()\n",
    "#bg2 = bg2[['order_id', 'product_id']]\n",
    "\n",
    "#bench2=pd.merge(left=b2[['torder_id', 'order_id']], right=bg2, on=\"order_id\")\n",
    "#print bg2.head()\n",
    "#print bench2.head()\n",
    "#print set(test.order_id.isin(bench2.torder_id))\n",
    "\n",
    "#bench2 = bench2[['torder_id', 'product_id']]\n",
    "#bench2.columns = ['order_id', 'products']\n",
    "#print bench2.head()\n",
    "#test['products'] = bench2\n",
    "#test['']\n",
    "bench3=bench3.sort_values(by='order_id',ascending=[1])\n",
    "bench3.to_csv('bench3_submission.csv', encoding='utf-8', index=False)\n",
    "\n",
    "# The score reported by Kaggle on submission - 0.3284533 (on 30% of samples) \n",
    "#print test_orders.head()\n"
   ]
  }
 ],
 "metadata": {
  "kernelspec": {
   "display_name": "Python 2",
   "language": "python",
   "name": "python2"
  },
  "language_info": {
   "codemirror_mode": {
    "name": "ipython",
    "version": 2
   },
   "file_extension": ".py",
   "mimetype": "text/x-python",
   "name": "python",
   "nbconvert_exporter": "python",
   "pygments_lexer": "ipython2",
   "version": "2.7.9"
  }
 },
 "nbformat": 4,
 "nbformat_minor": 1
}
