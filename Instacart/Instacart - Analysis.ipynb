{
 "cells": [
  {
   "cell_type": "markdown",
   "metadata": {},
   "source": [
    "# Machine Learning Engineer Nanodegree\n",
    "## Capstone Project - InstaCart Market Basket Analysis\n"
   ]
  },
  {
   "cell_type": "markdown",
   "metadata": {},
   "source": [
    "### Model Development and Analysis \n",
    "\n",
    "In this final notebook, I show how I constructed the training set and the out-of-sample test set from the official training data. "
   ]
  },
  {
   "cell_type": "code",
   "execution_count": 1,
   "metadata": {},
   "outputs": [
    {
     "name": "stdout",
     "output_type": "stream",
     "text": [
      "Loaded numpy and pandas libraries\n",
      "Wall time: 3.37 s\n"
     ]
    }
   ],
   "source": [
    "%%time\n",
    "%run cap-utils.py\n",
    "\n",
    "import warnings\n",
    "warnings.filterwarnings('ignore')\n",
    "\n",
    "# Import additional graphics libraries\n",
    "import matplotlib.pyplot as plt\n",
    "import seaborn as sb\n",
    "sb.set(style=\"whitegrid\", color_codes=True)\n",
    "\n",
    "# Show matplotlib plots inline (nicely formatted in the notebook)\n",
    "%matplotlib inline\n",
    "\n",
    "import os\n",
    "\n",
    "_datapath = './'\n",
    "os.chdir(_datapath)\n",
    "\n",
    "# RAW_STORE = 'instacart_raw.hdf5'\n",
    "# HDF_STORE = 'instacart.hdf5'\n",
    "# FVARS_STORE = 'features.hdf5'"
   ]
  },
  {
   "cell_type": "markdown",
   "metadata": {
    "collapsed": true
   },
   "source": [
    "#### Import the functions we need from sklearn and other libraries"
   ]
  },
  {
   "cell_type": "code",
   "execution_count": 2,
   "metadata": {
    "collapsed": true
   },
   "outputs": [],
   "source": [
    "from sklearn.model_selection import train_test_split\n",
    "from sklearn.model_selection import GridSearchCV\n",
    "from sklearn.metrics import roc_auc_score\n",
    "from sklearn.metrics import accuracy_score\n",
    "from sklearn.metrics import f1_score\n",
    "from sklearn.metrics import confusion_matrix\n",
    "import lightgbm as lgb"
   ]
  },
  {
   "cell_type": "markdown",
   "metadata": {},
   "source": [
    "### Prepare the training and test datasets\n",
    "\n",
    "Although Instacart provides separate train and test datasets, for this project, we are going to use a subset of their designated training set as our out-of-sample (oos) test set. This gives me a way to score our models and benchmarks consistently.\n",
    "\n",
    " 1. Load the `orders` and `train` datasets. They are complementary in that the we can derive the users corresponding to each order in `train`.\n",
    " 2. order numbers from the 1. Obtain the list of order_id that belong to the designated training set\n",
    " 3. Take a 25% sample of these and set aside as the oos test set. This should be around 25000 orders, roughly the size of the set we have scores for from the competition submissions."
   ]
  },
  {
   "cell_type": "code",
   "execution_count": 3,
   "metadata": {},
   "outputs": [
    {
     "name": "stdout",
     "output_type": "stream",
     "text": [
      "Loading orders datasets ...\n",
      "98406 orders in our project training set\n",
      "32803 orders in our o-o-s test set\n",
      "Wall time: 4.19 s\n"
     ]
    }
   ],
   "source": [
    "%%time\n",
    "orders = get_from_hdf(['orders'], RAW_STORE)['orders']\n",
    "\n",
    "ttrain = orders[orders.eval_set==1]\n",
    "tr_orders, test_orders, x, x = train_test_split(ttrain.drop(['order_number'], axis=1), \n",
    "                                             ttrain[['order_number']], test_size=0.25, random_state=4)\n",
    "del x\n",
    "print \"{} orders in our project training set\".format(len(tr_orders))\n",
    "print \"{} orders in our o-o-s test set\".format(len(test_orders))"
   ]
  },
  {
   "cell_type": "markdown",
   "metadata": {},
   "source": [
    "#### Build out the training and oos test sets\n",
    "For each of the model train and test sets, we need to augment them with the features we created earlier. \n",
    " 1. Load the official training examples into a DataFrame - `ttrain`\n",
    " 2. Add a column of ones to this Dataframe - this will be our label column `in_order`\n",
    " 3. Load the extensive features dataset - `up_feat` (short for user-product features)\n",
    " 4. Merge the train set for our model from the previous cell (`tr_orders`) with the features set (`up_feat`). This expands our `tr_orders` set to now include all products the user has ever purchased and it should be significanlty larger.\n",
    " 5. This is now renamed `train`. \n",
    " "
   ]
  },
  {
   "cell_type": "code",
   "execution_count": 4,
   "metadata": {},
   "outputs": [
    {
     "name": "stdout",
     "output_type": "stream",
     "text": [
      "Loading train datasets ...\n",
      "The train set has 6353111 order-product combinations\n",
      "Wall time: 30.1 s\n"
     ]
    }
   ],
   "source": [
    "%%time\n",
    "t_train = get_from_hdf(['train'], RAW_STORE)['train']\n",
    "t_train['in_order'] = (np.ones(len(t_train))).astype('int8')\n",
    "\n",
    "up_feat = pd.read_hdf(FVARS_STORE, 'up_feat')\n",
    "up_feat['up_in_last'] = up_feat['up_in_last'].astype('int8')\n",
    "\n",
    "train=tr_orders.merge(up_feat, on='user_id')\n",
    "print \"The train set has {} order-product combinations\".format(len(train))"
   ]
  },
  {
   "cell_type": "markdown",
   "metadata": {},
   "source": [
    "#### Build out the training and oos test sets - continuation\n",
    " 6. Merge `train` with `t_train` (the official training set, augmented with the label column) with a left join. The resulting table will have missing values for products that are in `train` not in the official order `t_train`.\n",
    " 7. Fill the `in_order` (label column) with zeros to complete the labels.\n",
    " 8. Load in the top-10 aisles table \n",
    " 9. Merge train with the top-10 aisles on `user_id`"
   ]
  },
  {
   "cell_type": "code",
   "execution_count": 5,
   "metadata": {},
   "outputs": [
    {
     "name": "stdout",
     "output_type": "stream",
     "text": [
      "Wall time: 19.2 s\n"
     ]
    }
   ],
   "source": [
    "%%time\n",
    "train=train.merge(t_train[['order_id', 'product_id', 'in_order']], how='left', on=['order_id', 'product_id'])\n",
    "train.in_order.fillna(0, inplace=True)"
   ]
  },
  {
   "cell_type": "code",
   "execution_count": 6,
   "metadata": {},
   "outputs": [
    {
     "name": "stdout",
     "output_type": "stream",
     "text": [
      "Wall time: 10.9 s\n"
     ]
    }
   ],
   "source": [
    "%%time\n",
    "topN = pd.read_hdf(FVARS_STORE, \"ua_top10\")\n",
    "train=train.merge(topN, on='user_id');"
   ]
  },
  {
   "cell_type": "markdown",
   "metadata": {},
   "source": [
    "#### Change some of the column types to category"
   ]
  },
  {
   "cell_type": "code",
   "execution_count": 7,
   "metadata": {},
   "outputs": [
    {
     "name": "stdout",
     "output_type": "stream",
     "text": [
      "<class 'pandas.core.frame.DataFrame'>\n",
      "Int64Index: 6353111 entries, 0 to 6353110\n",
      "Data columns (total 34 columns):\n",
      "order_id                  uint32\n",
      "user_id                   category\n",
      "eval_set                  int8\n",
      "order_dow                 int8\n",
      "order_hour_of_day         int8\n",
      "days_since_prior_order    float64\n",
      "aisle_id                  category\n",
      "product_id                int64\n",
      "up_cart_rank              float64\n",
      "up_avg_days               float64\n",
      "up_in_last                int8\n",
      "up_times                  int64\n",
      "up_reord_prob             float64\n",
      "up_last_reord             int8\n",
      "uo_count                  int16\n",
      "ubasket_avg               float16\n",
      "up_prob                   float64\n",
      "up_dow                    float16\n",
      "up_tod                    float16\n",
      "up_30_avg                 float16\n",
      "ua_ocount                 int16\n",
      "u_a_reord                 float64\n",
      "u_a_pcount                float64\n",
      "in_order                  float64\n",
      "top-1                     category\n",
      "top-2                     category\n",
      "top-3                     category\n",
      "top-4                     category\n",
      "top-5                     category\n",
      "top-6                     category\n",
      "top-7                     category\n",
      "top-8                     category\n",
      "top-9                     category\n",
      "top-10                    category\n",
      "dtypes: category(12), float16(4), float64(8), int16(2), int64(2), int8(5), uint32(1)\n",
      "memory usage: 818.7 MB\n"
     ]
    }
   ],
   "source": [
    "train['user_id'] = train['user_id'].astype('category')\n",
    "train['aisle_id'] = train['aisle_id'].astype('category')\n",
    "for i in range(1,11):\n",
    "    train[\"top-\"+str(i)] = train[\"top-{}\".format(i)].astype('category')\n",
    "train.info()"
   ]
  },
  {
   "cell_type": "markdown",
   "metadata": {},
   "source": [
    "### Build the oos test set using the same steps"
   ]
  },
  {
   "cell_type": "code",
   "execution_count": 9,
   "metadata": {},
   "outputs": [
    {
     "name": "stdout",
     "output_type": "stream",
     "text": [
      "The train set has 6353111 order-product combinations\n",
      "The oos-test set has 2121550 order-product combinations\n",
      "Wall time: 35.1 s\n"
     ]
    }
   ],
   "source": [
    "%%time\n",
    "oos_test=test_orders.merge(up_feat, on='user_id');\n",
    "print \"The train set has {} order-product combinations\".format(len(train));\n",
    "\n",
    "oos_test = oos_test.merge(t_train[['order_id', 'product_id', 'in_order']], how='left', on=['order_id', 'product_id']);\n",
    "oos_test.in_order.fillna(0, inplace=True);\n",
    "\n",
    "oos_test=oos_test.merge(topN, on='user_id');\n",
    "print \"The oos-test set has {} order-product combinations\".format(len(oos_test));\n",
    "\n",
    "oos_test['user_id'] = oos_test['user_id'].astype('category')\n",
    "oos_test['aisle_id'] = oos_test['aisle_id'].astype('category')\n",
    "for i in range(1,11):\n",
    "    oos_test[\"top-\"+str(i)] = oos_test[\"top-{}\".format(i)].astype('category')"
   ]
  },
  {
   "cell_type": "markdown",
   "metadata": {},
   "source": [
    "### Creating the model training and validation sets\n",
    " - set up a variable with the list of features to ignore. This should contain `order_id`, `eval_set` and `product_id` at the very least\n",
    " - create the `data` set for model training and validation"
   ]
  },
  {
   "cell_type": "code",
   "execution_count": 10,
   "metadata": {},
   "outputs": [
    {
     "name": "stdout",
     "output_type": "stream",
     "text": [
      "Wall time: 2.84 s\n"
     ]
    }
   ],
   "source": [
    "%%time\n",
    "features_ex = ['order_id', 'eval_set', 'product_id']\n",
    "label_col = 'in_order'\n",
    "data = train.drop(features_ex, axis=1);"
   ]
  },
  {
   "cell_type": "markdown",
   "metadata": {},
   "source": [
    "##### Clear up some meory if needed\n",
    "At this point, many of the structures we have used to build data are no longer needed. We can get rid of them\n",
    "to clear up memory for the modelling"
   ]
  },
  {
   "cell_type": "code",
   "execution_count": 11,
   "metadata": {},
   "outputs": [
    {
     "data": {
      "text/plain": [
       "199"
      ]
     },
     "execution_count": 11,
     "metadata": {},
     "output_type": "execute_result"
    }
   ],
   "source": [
    "del t_train, orders, up_feat, topN\n",
    "gc.collect() # releases about 1 GB"
   ]
  },
  {
   "cell_type": "markdown",
   "metadata": {},
   "source": [
    "### Model Training\n",
    " \n",
    " - use `train_test_split` to create a training and validation sets\n",
    "     - the define models, train, predict and score"
   ]
  },
  {
   "cell_type": "code",
   "execution_count": 15,
   "metadata": {
    "scrolled": true
   },
   "outputs": [
    {
     "name": "stdout",
     "output_type": "stream",
     "text": [
      "Wall time: 43.9 s\n"
     ]
    }
   ],
   "source": [
    "%%time\n",
    "# Remove user_id from features\n",
    "X_train, X_val, y_train, y_val = train_test_split(data.drop([label_col]+['user_id'], axis=1),\n",
    "                                                  data[label_col],\n",
    "                                                  test_size=0.50, random_state=42)\n"
   ]
  },
  {
   "cell_type": "code",
   "execution_count": 39,
   "metadata": {
    "collapsed": true
   },
   "outputs": [],
   "source": [
    "# Helper function for printing out precision and accuracy \n",
    "def prec(cf):\n",
    "    #cf = confusion matrix\n",
    "    a=cf*1.0\n",
    "    precision=a[1][1]/a[1].sum()\n",
    "    recall = a[1][1]/(a[0][1]+a[1][1])\n",
    "    return \"Precision: {:.4f}, recall ={:.4f}, f1-score={:.4f}\".format(precision, \n",
    "                                                                       recall,\n",
    "                                                                       2*precision*recall/(precision+recall))\n",
    "\n",
    "# Model validation report\n",
    "def report(y_true, y_pred, threshold=0.2):\n",
    "    print \"\\nModel Report\"\n",
    "    print \"Accuracy : %.4g\" % accuracy_score(y_true, y_pred>threshold)\n",
    "    print \"AUC Score (Train): %f\" % roc_auc_score(y_true, y_pred)\n",
    "    print \"f1-score : %.4g\" % f1_score(y_true, y_pred>threshold)\n",
    "    print \"Calculating confusion matrix ..\"\n",
    "    cf = confusion_matrix(y_true, y_pred>threshold)\n",
    "    print \"\\nThreshold={:.4f}, CF: {}\".format(threshold, prec(cf))\n",
    "    \n",
    "# Model training and prediction\n",
    "#  - params is the params dictionary to pass to the object\n",
    "#  - X_train, y_train, X_valid, y_valid as the training and validation input features and labels \n",
    "#  - N - number of boosting rounds\n",
    "#  - S - early stopping round (cost function must not get smaller for these many rounds before process stops )\n",
    "#\n",
    "# returns model and preicted labels for validation set\n",
    "def fit_model(params, X_train, y_train, X_eval, y_eval, N=None, S=None, T=0.20):\n",
    "    lgb_train = lgb.Dataset(X_train, y_train)\n",
    "    lgb_eval = lgb.Dataset(X_val, y_val, reference=lgb_train)\n",
    "    print('Start training...')\n",
    "    # train\n",
    "    if 'n_estimators' in params:\n",
    "        params['num_boost_round'] = params['n_estimators']\n",
    "        params.pop('n_estimators', 1)\n",
    "    if 'silent' in params:\n",
    "        params['verbose'] = 5 if params['silent'] else 0\n",
    "        params.pop('silent')\n",
    "    params['early_stopping_rounds'] = max(S, 5)\n",
    "    print params\n",
    "    gbm = lgb.train(params,\n",
    "                    lgb_train,\n",
    "                    params['num_boost_round'],\n",
    "                    lgb_eval)\n",
    "\n",
    "    if (gbm.best_iteration==0):\n",
    "        print \"Fit may not have converged .. using model from final iteration\"\n",
    "        gbm.best_iteration = params['num+boost_round']-1\n",
    "    print('Start predicting... with best iteration = {}'.format(gbm.best_iteration))\n",
    "    y_pred = gbm.predict(X_val, num_iteration=gbm.best_iteration)   \n",
    "    report(y_val, y_pred, T)\n",
    "    return gbm, y_pred"
   ]
  },
  {
   "cell_type": "code",
   "execution_count": 75,
   "metadata": {
    "collapsed": true
   },
   "outputs": [],
   "source": [
    "# Plot features bar plot\n",
    "\n",
    "def plot_importances(gbm, N=15):\n",
    "    feat_imp=pd.DataFrame(np.array([gbm.feature_name(), gbm.feature_importance()]).transpose(), \n",
    "                      columns=['feature','importance'])\n",
    "    feat_imp.importance = feat_imp.importance.astype('int')\n",
    "    feat_imp.sort_values(by='importance', ascending=False, inplace=True)\n",
    "    feat_imp.set_index('feature', inplace=True)\n",
    "    feat_imp[:N].plot(kind='barh', title='Feature Importances')\n",
    "    plt.ylabel('Feature Importance Score');\n",
    "    plt.xlabel('Importance')\n",
    "\n",
    "# Iterate through threshold values to find best one\n",
    "def choose_threshold(y_true, y_pred, tstart, tend, t_initial):\n",
    "    \n",
    "    othresh=t_initial\n",
    "    step = (tend-tstart)/5.0\n",
    "    oscore=0\n",
    "    for _ in range(5):\n",
    "        thresh=tstart + _*step\n",
    "        #thresh=0.22\n",
    "        score = f1_score(y_true, y_pred>thresh)\n",
    "        if score>oscore:\n",
    "            oscore=score\n",
    "            othresh=thresh\n",
    "        print \"Threshold={:.4f}, score={:.4f} - {}\".format(thresh, score, \\\n",
    "                                                           prec(confusion_matrix(y_true, y_pred>thresh)))\n",
    "    cf = confusion_matrix(y_true, y_pred>othresh)\n",
    "    print \"\\nThreshold={:.4f}, score={:.4f} - {}\".format(othresh, \n",
    "                                                       f1_score(y_true, y_pred>othresh), \n",
    "                                                       prec(cf))\n",
    "    print cf\n",
    "    return othresh"
   ]
  },
  {
   "cell_type": "code",
   "execution_count": 50,
   "metadata": {},
   "outputs": [
    {
     "name": "stdout",
     "output_type": "stream",
     "text": [
      "Start training...\n",
      "{'num_leaves': 31, 'reg_alpha': 0, 'subsample_for_bin': 50000, 'verbose': 0, 'learning_rate': 0.1, 'subsample_freq': 1, 'early_stopping_rounds': 10, 'num_boost_round': 30, 'bagging_fraction': 0.9, 'metric': ['binary_logloss', 'auc'], 'boosting_type': 'rf', 'colsample_bytree': 1, 'bagging_freq': 5, 'min_child_samples': 10, 'nthread': -1, 'min_child_weight': 5, 'min_split_gain': 0, 'subsample': 1, 'reg_lambda': 0, 'seed': 0, 'max_bin': 255, 'objective': 'binary', 'max_depth': -1, 'feature_fraction': 0.9}\n",
      "[1]\tvalid_0's binary_logloss: 0.304534\tvalid_0's auc: 0.793284\n",
      "[2]\tvalid_0's binary_logloss: 0.304534\tvalid_0's auc: 0.793284\n",
      "[3]\tvalid_0's binary_logloss: 0.304534\tvalid_0's auc: 0.793284\n",
      "[4]\tvalid_0's binary_logloss: 0.304534\tvalid_0's auc: 0.793284\n",
      "[5]\tvalid_0's binary_logloss: 0.304534\tvalid_0's auc: 0.793284\n",
      "[6]\tvalid_0's binary_logloss: 0.304515\tvalid_0's auc: 0.795147\n",
      "[7]\tvalid_0's binary_logloss: 0.304478\tvalid_0's auc: 0.795686\n",
      "[8]\tvalid_0's binary_logloss: 0.304458\tvalid_0's auc: 0.796336\n",
      "[9]\tvalid_0's binary_logloss: 0.304446\tvalid_0's auc: 0.796475\n",
      "[10]\tvalid_0's binary_logloss: 0.304441\tvalid_0's auc: 0.79651\n",
      "[11]\tvalid_0's binary_logloss: 0.304429\tvalid_0's auc: 0.796799\n",
      "[12]\tvalid_0's binary_logloss: 0.304423\tvalid_0's auc: 0.7968\n",
      "[13]\tvalid_0's binary_logloss: 0.304442\tvalid_0's auc: 0.798063\n",
      "[14]\tvalid_0's binary_logloss: 0.304428\tvalid_0's auc: 0.798344\n",
      "[15]\tvalid_0's binary_logloss: 0.304426\tvalid_0's auc: 0.798265\n",
      "[16]\tvalid_0's binary_logloss: 0.304417\tvalid_0's auc: 0.798276\n",
      "[17]\tvalid_0's binary_logloss: 0.304434\tvalid_0's auc: 0.799076\n",
      "[18]\tvalid_0's binary_logloss: 0.304427\tvalid_0's auc: 0.799051\n",
      "[19]\tvalid_0's binary_logloss: 0.304447\tvalid_0's auc: 0.799044\n",
      "[20]\tvalid_0's binary_logloss: 0.304437\tvalid_0's auc: 0.799113\n",
      "[21]\tvalid_0's binary_logloss: 0.304427\tvalid_0's auc: 0.799218\n",
      "[22]\tvalid_0's binary_logloss: 0.304419\tvalid_0's auc: 0.799339\n",
      "[23]\tvalid_0's binary_logloss: 0.30441\tvalid_0's auc: 0.799326\n",
      "[24]\tvalid_0's binary_logloss: 0.304405\tvalid_0's auc: 0.799284\n",
      "[25]\tvalid_0's binary_logloss: 0.304399\tvalid_0's auc: 0.799289\n",
      "[26]\tvalid_0's binary_logloss: 0.304396\tvalid_0's auc: 0.799288\n",
      "[27]\tvalid_0's binary_logloss: 0.304394\tvalid_0's auc: 0.799316\n",
      "[28]\tvalid_0's binary_logloss: 0.304408\tvalid_0's auc: 0.799524\n",
      "[29]\tvalid_0's binary_logloss: 0.304406\tvalid_0's auc: 0.799479\n",
      "[30]\tvalid_0's binary_logloss: 0.304405\tvalid_0's auc: 0.799467\n",
      "Start predicting... with best iteration = 0\n",
      "\n",
      "Model Report\n",
      "Accuracy : 0.8279\n",
      "AUC Score (Train): 0.799467\n",
      "f1-score : 0.3898\n",
      "Calculating confusion matrix ..\n",
      "\n",
      "Threshold=0.2000, CF: Precision: 0.5630, recall =0.2981, f1-score=0.3898\n",
      "Wall time: 3min 40s\n"
     ]
    }
   ],
   "source": [
    "%%time\n",
    "estimator = lgb.LGBMClassifier(boosting_type='rf',                               \n",
    "                               #num_leaves=91,\n",
    "                               #learning_rate: 0.1,\n",
    "                               bagging_fraction= 0.9,\n",
    "                               bagging_freq = 5,\n",
    "                               #is_training_metric = True,\n",
    "                               feature_fraction = 0.9,                               \n",
    "                               metric=['binary_logloss', 'auc'],\n",
    "                               early_stopping_rounds=10,\n",
    "                               n_estimators= 30,\n",
    "                               #max_depth=7,\n",
    "                              )\n",
    "p=estimator.get_params()\n",
    "p['silent']=False\n",
    "g, f= fit_model(p, X_train, y_train, X_val, y_val, S=10)"
   ]
  },
  {
   "cell_type": "code",
   "execution_count": 56,
   "metadata": {},
   "outputs": [
    {
     "data": {
      "image/png": "[encoded data removed]",
      "text/plain": [
       "<matplotlib.figure.Figure at 0x188aaf278>"
      ]
     },
     "metadata": {},
     "output_type": "display_data"
    }
   ],
   "source": [
    "plot_importances(g, 10)"
   ]
  },
  {
   "cell_type": "code",
   "execution_count": 57,
   "metadata": {},
   "outputs": [
    {
     "name": "stdout",
     "output_type": "stream",
     "text": [
      "Start training...\n",
      "{'num_leaves': 31, 'reg_alpha': 0, 'subsample_for_bin': 50000, 'verbose': 0, 'learning_rate': 0.1, 'subsample_freq': 1, 'early_stopping_rounds': 10, 'num_boost_round': 30, 'bagging_fraction': 0.9, 'metric': ['binary_logloss', 'auc'], 'boosting_type': 'gbdt', 'colsample_bytree': 1, 'bagging_freq': 5, 'min_child_samples': 10, 'nthread': -1, 'min_child_weight': 5, 'min_split_gain': 0, 'subsample': 1, 'reg_lambda': 0, 'seed': 0, 'max_bin': 255, 'objective': 'binary', 'max_depth': -1, 'feature_fraction': 0.9}\n",
      "[1]\tvalid_0's binary_logloss: 0.626558\tvalid_0's auc: 0.793284\n",
      "[2]\tvalid_0's binary_logloss: 0.572137\tvalid_0's auc: 0.79825\n",
      "[3]\tvalid_0's binary_logloss: 0.526981\tvalid_0's auc: 0.801524\n",
      "[4]\tvalid_0's binary_logloss: 0.489132\tvalid_0's auc: 0.802067\n",
      "[5]\tvalid_0's binary_logloss: 0.45715\tvalid_0's auc: 0.803324\n",
      "[6]\tvalid_0's binary_logloss: 0.429947\tvalid_0's auc: 0.803732\n",
      "[7]\tvalid_0's binary_logloss: 0.406679\tvalid_0's auc: 0.80403\n",
      "[8]\tvalid_0's binary_logloss: 0.386713\tvalid_0's auc: 0.804466\n",
      "[9]\tvalid_0's binary_logloss: 0.369478\tvalid_0's auc: 0.805269\n",
      "[10]\tvalid_0's binary_logloss: 0.354621\tvalid_0's auc: 0.805522\n",
      "[11]\tvalid_0's binary_logloss: 0.341756\tvalid_0's auc: 0.806147\n",
      "[12]\tvalid_0's binary_logloss: 0.330589\tvalid_0's auc: 0.806758\n",
      "[13]\tvalid_0's binary_logloss: 0.320952\tvalid_0's auc: 0.807581\n",
      "[14]\tvalid_0's binary_logloss: 0.312527\tvalid_0's auc: 0.808126\n",
      "[15]\tvalid_0's binary_logloss: 0.305199\tvalid_0's auc: 0.808663\n",
      "[16]\tvalid_0's binary_logloss: 0.298824\tvalid_0's auc: 0.809022\n",
      "[17]\tvalid_0's binary_logloss: 0.293324\tvalid_0's auc: 0.809404\n",
      "[18]\tvalid_0's binary_logloss: 0.288468\tvalid_0's auc: 0.809619\n",
      "[19]\tvalid_0's binary_logloss: 0.284282\tvalid_0's auc: 0.810011\n",
      "[20]\tvalid_0's binary_logloss: 0.280549\tvalid_0's auc: 0.810526\n",
      "[21]\tvalid_0's binary_logloss: 0.277308\tvalid_0's auc: 0.810928\n",
      "[22]\tvalid_0's binary_logloss: 0.274457\tvalid_0's auc: 0.81116\n",
      "[23]\tvalid_0's binary_logloss: 0.272007\tvalid_0's auc: 0.811422\n",
      "[24]\tvalid_0's binary_logloss: 0.269856\tvalid_0's auc: 0.811634\n",
      "[25]\tvalid_0's binary_logloss: 0.267972\tvalid_0's auc: 0.811966\n",
      "[26]\tvalid_0's binary_logloss: 0.266263\tvalid_0's auc: 0.812314\n",
      "[27]\tvalid_0's binary_logloss: 0.264805\tvalid_0's auc: 0.812726\n",
      "[28]\tvalid_0's binary_logloss: 0.263457\tvalid_0's auc: 0.813342\n",
      "[29]\tvalid_0's binary_logloss: 0.262338\tvalid_0's auc: 0.813673\n",
      "[30]\tvalid_0's binary_logloss: 0.261336\tvalid_0's auc: 0.81395\n",
      "Start predicting... with best iteration = 0\n",
      "\n",
      "Model Report\n",
      "Accuracy : 0.859\n",
      "AUC Score (Train): 0.813950\n",
      "f1-score : 0.4098\n",
      "Calculating confusion matrix ..\n",
      "\n",
      "Threshold=0.2000, CF: Precision: 0.5014, recall =0.3465, f1-score=0.4098\n"
     ]
    }
   ],
   "source": []
  },
  {
   "cell_type": "code",
   "execution_count": 62,
   "metadata": {},
   "outputs": [
    {
     "name": "stdout",
     "output_type": "stream",
     "text": [
      "Start training...\n",
      "{'num_leaves': 31, 'reg_alpha': 0, 'subsample_for_bin': 50000, 'verbose': 0, 'learning_rate': 0.1, 'subsample_freq': 1, 'early_stopping_rounds': 10, 'num_boost_round': 30, 'bagging_freq': 5, 'metric': ['binary_logloss', 'auc'], 'boosting_type': 'dart', 'colsample_bytree': 1, 'bagging_fraction': 0.9, 'min_child_samples': 10, 'nthread': -1, 'min_child_weight': 5, 'min_split_gain': 0, 'subsample': 1, 'reg_lambda': 0, 'seed': 0, 'max_bin': 255, 'objective': 'binary', 'max_depth': -1, 'feature_fraction': 0.9}\n",
      "[1]\tvalid_0's binary_logloss: 0.626558\tvalid_0's auc: 0.793284\n",
      "[2]\tvalid_0's binary_logloss: 0.572137\tvalid_0's auc: 0.79825\n",
      "[3]\tvalid_0's binary_logloss: 0.526981\tvalid_0's auc: 0.801524\n",
      "[4]\tvalid_0's binary_logloss: 0.489132\tvalid_0's auc: 0.802067\n",
      "[5]\tvalid_0's binary_logloss: 0.45715\tvalid_0's auc: 0.803324\n",
      "[6]\tvalid_0's binary_logloss: 0.460703\tvalid_0's auc: 0.803566\n",
      "[7]\tvalid_0's binary_logloss: 0.432966\tvalid_0's auc: 0.803871\n",
      "[8]\tvalid_0's binary_logloss: 0.409266\tvalid_0's auc: 0.804345\n",
      "[9]\tvalid_0's binary_logloss: 0.388945\tvalid_0's auc: 0.804591\n",
      "[10]\tvalid_0's binary_logloss: 0.371408\tvalid_0's auc: 0.805331\n",
      "[11]\tvalid_0's binary_logloss: 0.356285\tvalid_0's auc: 0.805689\n",
      "[12]\tvalid_0's binary_logloss: 0.343178\tvalid_0's auc: 0.806238\n",
      "[13]\tvalid_0's binary_logloss: 0.331879\tvalid_0's auc: 0.807109\n",
      "[14]\tvalid_0's binary_logloss: 0.322015\tvalid_0's auc: 0.80768\n",
      "[15]\tvalid_0's binary_logloss: 0.322189\tvalid_0's auc: 0.807521\n",
      "[16]\tvalid_0's binary_logloss: 0.323298\tvalid_0's auc: 0.807793\n",
      "[17]\tvalid_0's binary_logloss: 0.331073\tvalid_0's auc: 0.808081\n",
      "[18]\tvalid_0's binary_logloss: 0.334256\tvalid_0's auc: 0.808293\n",
      "[19]\tvalid_0's binary_logloss: 0.344008\tvalid_0's auc: 0.808408\n",
      "[20]\tvalid_0's binary_logloss: 0.332471\tvalid_0's auc: 0.80851\n",
      "[21]\tvalid_0's binary_logloss: 0.335429\tvalid_0's auc: 0.808605\n",
      "[22]\tvalid_0's binary_logloss: 0.335062\tvalid_0's auc: 0.808577\n",
      "[23]\tvalid_0's binary_logloss: 0.335203\tvalid_0's auc: 0.808479\n",
      "[24]\tvalid_0's binary_logloss: 0.324849\tvalid_0's auc: 0.808571\n",
      "[25]\tvalid_0's binary_logloss: 0.327392\tvalid_0's auc: 0.80854\n",
      "[26]\tvalid_0's binary_logloss: 0.318066\tvalid_0's auc: 0.808676\n",
      "[27]\tvalid_0's binary_logloss: 0.323034\tvalid_0's auc: 0.808699\n",
      "[28]\tvalid_0's binary_logloss: 0.326374\tvalid_0's auc: 0.808802\n",
      "[29]\tvalid_0's binary_logloss: 0.317183\tvalid_0's auc: 0.808834\n",
      "[30]\tvalid_0's binary_logloss: 0.309179\tvalid_0's auc: 0.809196\n",
      "Start predicting... with best iteration = 0\n",
      "\n",
      "Model Report\n",
      "Accuracy : 0.7623\n",
      "AUC Score (Train): 0.809196\n",
      "f1-score : 0.3629\n",
      "Calculating confusion matrix ..\n",
      "\n",
      "Threshold=0.2000, CF: Precision: 0.6936, recall =0.2457, f1-score=0.3629\n",
      "Wall time: 4min 18s\n"
     ]
    }
   ],
   "source": [
    "%%time\n",
    "p=estimator.get_params()\n",
    "p['boosting_type'] = 'dart'\n",
    "p['silent']=False\n",
    "g, f= fit_model(p, X_train, y_train, X_val, y_val, S=10)"
   ]
  },
  {
   "cell_type": "code",
   "execution_count": 79,
   "metadata": {},
   "outputs": [
    {
     "name": "stdout",
     "output_type": "stream",
     "text": [
      "Threshold=0.1800, score=0.4207 - Precision: 0.5429, recall =0.3434, f1-score=0.4207\n",
      "Threshold=0.1880, score=0.4224 - Precision: 0.5273, recall =0.3524, f1-score=0.4224\n",
      "Threshold=0.1960, score=0.4239 - Precision: 0.5127, recall =0.3613, f1-score=0.4239\n",
      "Threshold=0.2040, score=0.4241 - Precision: 0.4976, recall =0.3696, f1-score=0.4241\n",
      "Threshold=0.2120, score=0.4241 - Precision: 0.4832, recall =0.3779, f1-score=0.4241\n",
      "\n",
      "Threshold=0.2040, score=0.4241 - Precision: 0.4976, recall =0.3696, f1-score=0.4241\n",
      "[[2603321  263189]\n",
      " [ 155758  154288]]\n"
     ]
    },
    {
     "data": {
      "text/plain": [
       "0.20400000000000001"
      ]
     },
     "execution_count": 79,
     "metadata": {},
     "output_type": "execute_result"
    }
   ],
   "source": [
    "r\"\"\" '_prod_tot_cnts', '_prod_reorder_times', '_up_first_order_number','_user_total_products'\n",
    "\"\"\"\n",
    "choose_threshold(y_val, y_pred, 0.18, 0.22, 0.18)"
   ]
  },
  {
   "cell_type": "code",
   "execution_count": 63,
   "metadata": {},
   "outputs": [
    {
     "name": "stdout",
     "output_type": "stream",
     "text": [
      "('Best parameters found by grid search are:', {'num_leaves': 121, 'learning_rate': 0.15})\n",
      "('Best score:', 0.90778941337392238)\n",
      "Wall time: 56min 52s\n"
     ]
    }
   ],
   "source": [
    "%%time\n",
    "estimator = lgb.LGBMClassifier(boosting_type='gbdt',                               \n",
    "                               bagging_fraction= 0.9,\n",
    "                               bagging_freq = 5,\n",
    "                               feature_fraction = 0.9,                               \n",
    "                               metric=['binary_logloss', 'auc'],\n",
    "                               early_stopping_rounds=10,\n",
    "                               n_estimators= 30,\n",
    "                               silent=False,\n",
    "                              )\n",
    "param_grid = {\n",
    "    'learning_rate': [0.05, 0.075,  0.15],\n",
    "    'num_leaves': [51, 81, 121]\n",
    "}\n",
    "\n",
    "gbm = GridSearchCV(estimator, param_grid)\n",
    "\n",
    "gbm.fit(X_train, y_train )\n",
    "\n",
    "\n",
    "print('Best parameters found by grid search are:', gbm.best_params_)\n",
    "print('Best score:', gbm.best_score_)"
   ]
  },
  {
   "cell_type": "code",
   "execution_count": null,
   "metadata": {
    "scrolled": false
   },
   "outputs": [],
   "source": [
    "\n",
    "%%time\n",
    "p=gbm.best_estimator_.get_params()\n",
    "p['min_child_samples'] = 50\n",
    "p['silent']=False\n",
    "p['learning_rate']=0.18\n",
    "p['n_estimators']=200\n",
    "g, f= fit_model(p, X_train, y_train, X_val, y_val, S=10)"
   ]
  },
  {
   "cell_type": "code",
   "execution_count": 71,
   "metadata": {},
   "outputs": [
    {
     "name": "stdout",
     "output_type": "stream",
     "text": [
      "\n",
      "Model Report\n",
      "Accuracy : 0.8661\n",
      "AUC Score (Train): 0.821731\n",
      "f1-score : 0.424\n",
      "Calculating confusion matrix ..\n",
      "\n",
      "Threshold=0.2000, CF: Precision: 0.5051, recall =0.3654, f1-score=0.4240\n",
      "Wall time: 15min 27s\n"
     ]
    },
    {
     "data": {
      "image/png": "[encoded data removed]",
      "text/plain": [
       "<matplotlib.figure.Figure at 0x126c24a58>"
      ]
     },
     "metadata": {},
     "output_type": "display_data"
    }
   ],
   "source": [
    "%%time\n",
    "best=gbm.best_estimator_\n",
    "param_grid = { 'learning_rate': [0.18] } # This is just to fake out GridSearchCV and do a 5-fold cv\n",
    "\n",
    "gbmCV = GridSearchCV(best, param_grid, cv=5)\n",
    "gbmCV.fit(X_train, y_train )\n",
    "gcv=gbm.best_estimator_.booster_\n",
    "y_pred=gcv.predict(X_val)\n",
    "report(y_val, y_pred);\n",
    "plot_importances(gcv)"
   ]
  },
  {
   "cell_type": "markdown",
   "metadata": {},
   "source": [
    "### Score final model against test (OOS) set"
   ]
  },
  {
   "cell_type": "code",
   "execution_count": 78,
   "metadata": {},
   "outputs": [
    {
     "name": "stdout",
     "output_type": "stream",
     "text": [
      "\n",
      "Model Report\n",
      "Accuracy : 0.8634\n",
      "AUC Score (Train): 0.818258\n",
      "f1-score : 0.4167\n",
      "Calculating confusion matrix ..\n",
      "\n",
      "Threshold=0.2000, CF: Precision: 0.4972, recall =0.3587, f1-score=0.4167\n",
      "Wall time: 1min 4s\n"
     ]
    }
   ],
   "source": [
    "%%time\n",
    "features_ex = ['order_id', 'eval_set', 'product_id']\n",
    "label_col = 'in_order'\n",
    "test = oos_test.drop(features_ex, axis=1)\n",
    "y_test = test['in_order']\n",
    "X_test = test.drop(['user_id', 'in_order'], axis=1)\n",
    "yt_pred = gcv.predict(X_test)\n",
    "report(y_test, yt_pred)"
   ]
  },
  {
   "cell_type": "markdown",
   "metadata": {},
   "source": [
    "### Different training set - use different random seed"
   ]
  },
  {
   "cell_type": "code",
   "execution_count": 80,
   "metadata": {},
   "outputs": [
    {
     "name": "stdout",
     "output_type": "stream",
     "text": [
      "\n",
      "Model Report\n",
      "Accuracy : 0.8686\n",
      "AUC Score (Train): 0.827593\n",
      "f1-score : 0.4347\n",
      "Calculating confusion matrix ..\n",
      "\n",
      "Threshold=0.2000, CF: Precision: 0.5186, recall =0.3742, f1-score=0.4347\n"
     ]
    },
    {
     "data": {
      "image/png": "[encoded data removed]",
      "text/plain": [
       "<matplotlib.figure.Figure at 0x5f233320>"
      ]
     },
     "metadata": {},
     "output_type": "display_data"
    }
   ],
   "source": [
    "X_train, X_val, y_train, y_val = train_test_split(data.drop([label_col]+['user_id'], axis=1),\n",
    "                                                  data[label_col],\n",
    "                                                  test_size=0.50, random_state=22)\n",
    "param_grid = { 'learning_rate': [0.18] } # This is just to fake out GridSearchCV and do a 5-fold cv\n",
    "\n",
    "gbmCV2 = GridSearchCV(best, param_grid, cv=5)\n",
    "gbmCV2.fit(X_train, y_train )\n",
    "gcv2=gbmCV2.best_estimator_.booster_\n",
    "y2_pred=gcv.predict(X_val)\n",
    "report(y_val, y2_pred);\n",
    "plot_importances(gcv2)"
   ]
  },
  {
   "cell_type": "markdown",
   "metadata": {},
   "source": [
    "### Different training set - different test/train split and different seed"
   ]
  },
  {
   "cell_type": "code",
   "execution_count": 82,
   "metadata": {},
   "outputs": [
    {
     "name": "stdout",
     "output_type": "stream",
     "text": [
      "\n",
      "Model Report\n",
      "Accuracy : 0.8685\n",
      "AUC Score (Train): 0.827619\n",
      "f1-score : 0.4351\n",
      "Calculating confusion matrix ..\n",
      "\n",
      "Threshold=0.2000, CF: Precision: 0.5180, recall =0.3750, f1-score=0.4351\n"
     ]
    },
    {
     "data": {
      "image/png": "[encoded data removed]",
      "text/plain": [
       "<matplotlib.figure.Figure at 0xe8744320>"
      ]
     },
     "metadata": {},
     "output_type": "display_data"
    }
   ],
   "source": [
    "X_train, X_val, y_train, y_val = train_test_split(data.drop([label_col]+['user_id'], axis=1),\n",
    "                                                  data[label_col],\n",
    "                                                  test_size=0.60, random_state=30)\n",
    "param_grid = { 'learning_rate': [0.18] } # This is just to fake out GridSearchCV and do a 5-fold cv\n",
    "\n",
    "gbmCV3 = GridSearchCV(best, param_grid, cv=5)\n",
    "gbmCV3.fit(X_train, y_train )\n",
    "gcv3=gbmCV3.best_estimator_.booster_\n",
    "y3_pred=gcv.predict(X_val)\n",
    "report(y_val, y3_pred);\n",
    "plot_importances(gcv3)"
   ]
  },
  {
   "cell_type": "markdown",
   "metadata": {},
   "source": [
    "### OOS Test score for retrained models"
   ]
  },
  {
   "cell_type": "code",
   "execution_count": 83,
   "metadata": {},
   "outputs": [
    {
     "name": "stdout",
     "output_type": "stream",
     "text": [
      "\n",
      "Model Report\n",
      "Accuracy : 0.8635\n",
      "AUC Score (Train): 0.818804\n",
      "f1-score : 0.4175\n",
      "Calculating confusion matrix ..\n",
      "\n",
      "Threshold=0.2000, CF: Precision: 0.4982, recall =0.3593, f1-score=0.4175\n"
     ]
    }
   ],
   "source": [
    "yt2_pred = gcv2.predict(X_test)\n",
    "report(y_test, yt2_pred)"
   ]
  },
  {
   "cell_type": "code",
   "execution_count": 84,
   "metadata": {},
   "outputs": [
    {
     "name": "stdout",
     "output_type": "stream",
     "text": [
      "\n",
      "Model Report\n",
      "Accuracy : 0.8635\n",
      "AUC Score (Train): 0.818346\n",
      "f1-score : 0.4164\n",
      "Calculating confusion matrix ..\n",
      "\n",
      "Threshold=0.2000, CF: Precision: 0.4959, recall =0.3589, f1-score=0.4164\n"
     ]
    }
   ],
   "source": [
    "yt3_pred = gcv3.predict(X_test)\n",
    "report(y_test, yt3_pred)"
   ]
  },
  {
   "cell_type": "markdown",
   "metadata": {},
   "source": [
    "### Score benchmarks against test (OOS) set"
   ]
  },
  {
   "cell_type": "code",
   "execution_count": null,
   "metadata": {
    "collapsed": true
   },
   "outputs": [],
   "source": [
    "%%time\n",
    "d = get_from_hdf(['orders', 'priors'])\n",
    "XX=oos_test.drop('in_order', axis=1)"
   ]
  },
  {
   "cell_type": "code",
   "execution_count": null,
   "metadata": {
    "collapsed": true,
    "scrolled": false
   },
   "outputs": [],
   "source": [
    "%%time\n",
    "B1 = bench1_fit(d['priors'], d['orders'])\n",
    "B1_pred = bench_predict(B1, XX)\n",
    "report(oos_test.in_order, B1_pred)"
   ]
  },
  {
   "cell_type": "code",
   "execution_count": null,
   "metadata": {
    "collapsed": true,
    "scrolled": true
   },
   "outputs": [],
   "source": [
    "%%time\n",
    "B2 = bench2_fit(d['priors'], d['orders'])\n",
    "B2_pred = bench_predict(B2, XX)\n",
    "report(oos_test.in_order, B2_pred)"
   ]
  },
  {
   "cell_type": "code",
   "execution_count": null,
   "metadata": {
    "collapsed": true
   },
   "outputs": [],
   "source": [
    "%%time\n",
    "B3 = bench3_fit(d['priors'], d['orders'])\n",
    "B3_pred = bench_predict(B3, XX)\n",
    "report(oos_test.in_order, B3_pred)"
   ]
  }
 ],
 "metadata": {
  "kernelspec": {
   "display_name": "Python 2",
   "language": "python",
   "name": "python2"
  },
  "language_info": {
   "codemirror_mode": {
    "name": "ipython",
    "version": 2
   },
   "file_extension": ".py",
   "mimetype": "text/x-python",
   "name": "python",
   "nbconvert_exporter": "python",
   "pygments_lexer": "ipython2",
   "version": "2.7.13"
  }
 },
 "nbformat": 4,
 "nbformat_minor": 1
}
